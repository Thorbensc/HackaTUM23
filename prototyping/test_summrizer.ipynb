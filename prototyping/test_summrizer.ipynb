{
 "cells": [
  {
   "cell_type": "code",
   "execution_count": 22,
   "metadata": {},
   "outputs": [
    {
     "name": "stdout",
     "output_type": "stream",
     "text": [
      "The autoreload extension is already loaded. To reload it, use:\n",
      "  %reload_ext autoreload\n"
     ]
    }
   ],
   "source": [
    "%load_ext autoreload\n",
    "%autoreload 2"
   ]
  },
  {
   "cell_type": "code",
   "execution_count": 23,
   "metadata": {},
   "outputs": [
    {
     "name": "stdout",
     "output_type": "stream",
     "text": [
      "lines with less than 513 chars:  29252\n"
     ]
    },
    {
     "name": "stderr",
     "output_type": "stream",
     "text": [
      "/Users/hammerer/git/HackaTUM23/.rhode/lib/python3.11/site-packages/sklearn/cluster/_kmeans.py:1416: FutureWarning: The default value of `n_init` will change from 10 to 'auto' in 1.4. Set the value of `n_init` explicitly to suppress the warning\n",
      "  super()._check_params_vs_input(X, default_n_init=10)\n"
     ]
    },
    {
     "name": "stdout",
     "output_type": "stream",
     "text": [
      "Nov 09 13:11:45 CMX50070-101776 audit[2799]: SYSCALL arch=c000003e syscall=54 success=yes exit=0 a0=4 a1=0 a2=40 a3=55d2671d1c10 items=0 ppid=1853 pid=2799 auid=4294967295 uid=0 gid=0 euid=0 suid=0 fsuid=0 egid=0 sgid=0 fsgid=0 tty=(none) ses=4294967295 comm=\"iptables\" exe=\"/usr/sbin/xtables-legacy-multi\" key=(null)\n",
      "\n",
      "Nov 09 13:12:35 CMX50070-101776 kernel: config_generic_gigabit_channel_link(): [001/001][000/000] 0x00000010 = 0x00000000 / confLengthData: 001\n",
      "Nov 09 13:12:35 CMX50070-101776 kernel: config_generic_gigabit_channel_link(): update_write on 0x00000EB0 with value 0x00000000 (read 0x00000000 | 0x00000000)\n",
      "Nov 09 13:12:35 CMX50070-101776 kernel: ---\n",
      "Nov 09 13:12:35 CMX50070-101776 kernel: CMX_COMMON_IOCTL_SET_GIGABIT_CHANNEL_LINK_CONFIG call\n",
      "\n",
      "Nov 09 13:13:37 CMX50070-101776 start_mrt.sh[3219]: supported_tests_from_offers has test Result Name 19 A001400\n",
      "Nov 09 13:13:37 CMX50070-101776 start_mrt.sh[3219]: supported_tests_from_offers has test Result Name 19 A001400\n",
      "Nov 09 13:13:37 CMX50070-101776 start_mrt.sh[3219]: supported_tests_from_offers has test Result Name 1 A001400\n",
      "Nov 09 13:13:37 CMX50070-101776 start_mrt.sh[3219]: supported_tests_from_offers has test Result Name 1 A001400\n",
      "\n",
      "Nov 09 13:15:20 CMX50070-101776 mrt.dos[1863]: 2023-11-09T13:15:20.720384Z [DeviceApiSubscriber                                  ] DEBUG: Health service message:\n",
      "Nov 09 13:15:20 CMX50070-101776 mrt.dos[1863]: 2023-11-09T13:15:20.720384Z [DeviceApiSubscriber                                  ] DEBUG:  * ResourceName: //mrt/0/health/0\n",
      "Nov 09 13:15:20 CMX50070-101776 mrt.dos[1863]: 2023-11-09T13:15:20.720384Z [DeviceApiSubscriber                                  ] DEBUG:  * State: Running\n",
      "\n",
      "Nov 09 13:24:29 CMX50070-101776 systemd[1]: Started OpenSSH Per-Connection Daemon (172.24.26.38:49746).\n",
      "Nov 09 13:24:29 CMX50070-101776 systemd[1]: sshd@74-10.102.37.173:22-172.24.26.38:49746.service: Deactivated successfully.\n",
      "Nov 09 13:24:29 CMX50070-101776 sshd[87322]: error: kex_exchange_identification: Connection closed by remote host\n",
      "Nov 09 13:24:29 CMX50070-101776 sshd[87322]: Connection closed by 172.24.26.38 port 49746\n",
      "\n",
      "Nov 09 13:41:18 CMX50070-101776 rspias-daemon[887]: PIAS: Socket[4] >> DIAG:PIAS:HOST?\\n\n",
      "Nov 09 13:41:19 CMX50070-101776 start_mrt.sh[191943]: Dispatching RPC RatRqm1::sfa_0::message_received\n",
      "Nov 09 13:41:19 CMX50070-101776 start_mrt.sh[191943]: execute\n",
      "Nov 09 13:41:19 CMX50070-101776 mrt.dos[1863]: 2023-11-09T13:41:19.614695Z [DeviceApiSubscriber                                  ] DEBUG: Received message from Connection service\n",
      "\n",
      "Nov 09 13:55:22 CMX50070-101776 start_cmxmarsserver.sh[173642]: Got Data: 1558400 count: 73 t: 1:55:22 PM\n",
      "Nov 09 13:55:23 CMX50070-101776 start_cmxmarsserver.sh[173642]: Got Data: 1558500 count: 3 t: 1:55:23 PM\n",
      "Nov 09 13:55:23 CMX50070-101776 start_cmxmarsserver.sh[173642]: Got Data: 1558400 count: 100 t: 1:55:23 PM\n",
      "Nov 09 13:55:23 CMX50070-101776 start_cmxmarsserver.sh[173642]: Got Data: 1558500 count: 28 t: 1:55:23 PM\n",
      "\n",
      "Nov 09 21:00:36 CMX50070-101776 systemd[1]: Failed to start Script that periodically evaluates the main S.M.A.R.T metrics and prepares them for node_exporter.\n",
      "Nov 09 21:00:37 CMX50070-101776 systemd[1]: mrt.smartmon-collector.service: Start request repeated too quickly.\n",
      "Nov 09 21:00:37 CMX50070-101776 systemd[1]: mrt.smartmon-collector.service: Failed with result 'start-limit-hit'.\n",
      "\n",
      "Nov 09 23:23:50 CMX50070-101776 mrt.pos.catrp3dr[1867]: info: RohdeSchwarz.Mrt.Microservices.PositioningCatrP3Dr.Positioning.PositioningServiceHost[0]\n",
      "Nov 09 23:23:50 CMX50070-101776 mrt.pos.catrp3dr[1867]:       Worker running at: 11/09/2023 23:23:50 +00:00\n",
      "Nov 09 23:23:51 CMX50070-101776 mrt.pos.catrp3d1[1865]: info: RohdeSchwarz.Mrt.Microservices.PositioningCatrP3D1.Positioning.PositioningServiceHost[0]\n",
      "\n",
      "Nov 10 02:35:51 CMX50070-101776 mrt.pos.catrp3d1[1865]:       Worker running at: 11/10/2023 02:35:51 +00:00\n",
      "Nov 10 02:36:11 CMX50070-101776 RsInstallation[1856]: [.NET ThreadPool Worker] INFO RohdeSchwarz.InstallationServiceLib.InstallationService - Stats: Working set 237.20M, Virtual set 5.48G, CPU Time 9721.990 s, CPU User Time 6196.160 s, Threads 45\n",
      "Nov 10 02:36:51 CMX50070-101776 mrt.pos.catrp3dr[1867]: info: RohdeSchwarz.Mrt.Microservices.PositioningCatrP3Dr.Positioning.PositioningServiceHost[0]\n",
      "\n",
      "\n"
     ]
    }
   ],
   "source": [
    "from summarizer import LogSummarizer\n",
    "\n",
    "file_path = './data/test_log1.out'\n",
    "\n",
    "with open(file_path, 'r') as file:\n",
    "    file_contents = file.read()\n",
    "\n",
    "summy = LogSummarizer(file_contents)\n",
    "summary = summy.summarize(10)\n",
    "print(summary)"
   ]
  },
  {
   "cell_type": "code",
   "execution_count": 30,
   "metadata": {},
   "outputs": [
    {
     "name": "stderr",
     "output_type": "stream",
     "text": [
      "Some weights of the model checkpoint at bert-large-uncased-whole-word-masking-finetuned-squad were not used when initializing BertForQuestionAnswering: ['bert.pooler.dense.bias', 'bert.pooler.dense.weight']\n",
      "- This IS expected if you are initializing BertForQuestionAnswering from the checkpoint of a model trained on another task or with another architecture (e.g. initializing a BertForSequenceClassification model from a BertForPreTraining model).\n",
      "- This IS NOT expected if you are initializing BertForQuestionAnswering from the checkpoint of a model that you expect to be exactly identical (initializing a BertForSequenceClassification model from a BertForSequenceClassification model).\n"
     ]
    },
    {
     "name": "stdout",
     "output_type": "stream",
     "text": [
      "lines with less than 513 chars:  43\n"
     ]
    },
    {
     "data": {
      "text/plain": [
       "[(None, -1), (None, -1), ('172 . 24 . 26 . 38 port 49746', 0.8485531806945801)]"
      ]
     },
     "execution_count": 30,
     "metadata": {},
     "output_type": "execute_result"
    }
   ],
   "source": [
    "from question_answering import LogAIAgent\n",
    "\n",
    "logAIAgent = LogAIAgent()\n",
    "\n",
    "logAIAgent.find_best_answer(summary, \"At what timestamp was the ssh connection closed?\")"
   ]
  },
  {
   "cell_type": "code",
   "execution_count": null,
   "metadata": {},
   "outputs": [],
   "source": []
  }
 ],
 "metadata": {
  "kernelspec": {
   "display_name": ".rhode",
   "language": "python",
   "name": "python3"
  },
  "language_info": {
   "codemirror_mode": {
    "name": "ipython",
    "version": 3
   },
   "file_extension": ".py",
   "mimetype": "text/x-python",
   "name": "python",
   "nbconvert_exporter": "python",
   "pygments_lexer": "ipython3",
   "version": "3.11.5"
  }
 },
 "nbformat": 4,
 "nbformat_minor": 2
}
