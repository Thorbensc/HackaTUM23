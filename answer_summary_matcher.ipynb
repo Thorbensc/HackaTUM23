{
 "cells": [
  {
   "cell_type": "code",
   "execution_count": 22,
   "metadata": {},
   "outputs": [
    {
     "name": "stdout",
     "output_type": "stream",
     "text": [
      "The autoreload extension is already loaded. To reload it, use:\n",
      "  %reload_ext autoreload\n"
     ]
    }
   ],
   "source": [
    "%load_ext autoreload\n",
    "%autoreload 2"
   ]
  },
  {
   "cell_type": "code",
   "execution_count": 1,
   "metadata": {},
   "outputs": [
    {
     "name": "stdout",
     "output_type": "stream",
     "text": [
      "lines with less than 513 chars:  636\n",
      "[Sun Jan 15 04:11:23 2006] [notice] Digest: generating secret for digest authentication ...\n",
      "[Sun Jan 15 04:11:23 2006] [notice] Digest: done\n",
      "[Sun Jan 15 04:11:23 2006] [notice] LDAP: Built with OpenLDAP LDAP SDK\n",
      "[Sun Jan 15 04:11:23 2006] [notice] LDAP: SSL support unavailable\n",
      "[Sun Jan 15 04:11:23 2006] [error] env.createBean2(): Factory error creating channel.jni:jni ( channel.jni, jni)\n",
      "[Sun Jan 15 04:11:23 2006] [error] config.update(): Can't create channel.jni:jni\n",
      "\n",
      "[Sun Jan 15 04:11:25 2006] [notice] workerEnv.init() ok /etc/httpd/conf/workers2.properties\n",
      "[Sun Jan 15 04:11:25 2006] [error] mod_jk child init 1 -2\n",
      "[Sun Jan 15 04:11:25 2006] [error] jk2_init() Can't find child 27317 in scoreboard\n",
      "[Sun Jan 15 04:11:25 2006] [notice] workerEnv.init() ok /etc/httpd/conf/workers2.properties\n",
      "[Sun Jan 15 04:11:25 2006] [error] mod_jk child init 1 -2\n",
      "[Sun Jan 15 04:11:25 2006] [error] jk2_init() Can't find child 27318 in scoreboard\n",
      "\n",
      "[Sun Jan 15 10:51:37 2006] [error] [client 61.152.90.96] script not found or unable to stat: /var/www/cgi-bin/awstats.pl\n",
      "[Sun Jan 15 10:51:37 2006] [error] [client 61.152.90.96] script not found or unable to stat: /var/www/cgi-bin/awstats\n",
      "[Sun Jan 15 10:51:38 2006] [error] [client 61.152.90.96] script not found or unable to stat: /var/www/cgi-bin/awstats\n",
      "[Sun Jan 15 10:51:38 2006] [error] [client 61.152.90.96] script not found or unable to stat: /var/www/cgi-bin/awstats.pl\n",
      "\n",
      "[Sun Jan 15 10:51:40 2006] [error] [client 61.152.90.96] script not found or unable to stat: /var/www/cgi-bin/awstats\n",
      "script not found or unable to stat\n",
      "[Sun Jan 15 10:51:40 2006] [notice] jk2_init() Found child 32235 in scoreboard slot 9\n",
      "[Sun Jan 15 10:51:40 2006] [notice] workerEnv.init() ok /etc/httpd/conf/workers2.properties\n",
      "[Sun Jan 15 10:51:40 2006] [error] mod_jk child workerEnv in error state 6\n",
      "[Sun Jan 15 10:51:40 2006] [error] [client 61.152.90.96] File does not exist: /var/www/html/blog\n",
      "\n",
      "script not found or unable to stat\n",
      "[Sun Jan 15 10:51:43 2006] [error] [client 61.152.90.96] File does not exist: /var/www/html/drupal\n",
      "[Sun Jan 15 10:51:43 2006] [error] [client 61.152.90.96] File does not exist: /var/www/html/blog\n",
      "[Sun Jan 15 10:51:43 2006] [error] [client 61.152.90.96] File does not exist: /var/www/html/blog\n",
      "[Sun Jan 15 10:51:43 2006] [error] [client 61.152.90.96] File does not exist: /var/www/html/blog\n",
      "\n",
      "[Sun Jan 15 10:51:50 2006] [error] [client 61.152.90.96] File does not exist: /var/www/html/phpgroupware\n",
      "[Sun Jan 15 10:51:50 2006] [error] [client 61.152.90.96] File does not exist: /var/www/html/drupal\n",
      "[Sun Jan 15 10:51:50 2006] [error] [client 61.152.90.96] File does not exist: /var/www/html/wordpress\n",
      "[Sun Jan 15 10:51:51 2006] [error] [client 61.152.90.96] File does not exist: /var/www/html/phpgroupware\n",
      "script not found or unable to stat\n",
      "\n",
      "[Sun Jan 15 14:34:02 2006] [error] [client 68.203.209.170] Directory index forbidden by rule: /var/www/html/\n",
      "[Sun Jan 15 15:20:57 2006] [error] [client 80.176.231.7] Directory index forbidden by rule: /var/www/html/\n",
      "[Sun Jan 15 16:10:18 2006] [error] [client 24.228.39.92] Directory index forbidden by rule: /var/www/html/\n",
      "[Sun Jan 15 16:28:34 2006] [error] [client 66.53.90.211] Directory index forbidden by rule: /var/www/html/\n",
      "\n",
      "[Sun Jan 15 23:31:13 2006] [error] [client 149.132.103.59] File does not exist: /var/www/html/awstats/awstats.pl\n",
      "[Sun Jan 15 23:31:13 2006] [error] [client 149.132.103.59] File does not exist: /var/www/html/awstats/awstats.pl\n",
      "[Sun Jan 15 23:31:13 2006] [error] [client 149.132.103.59] File does not exist: /var/www/html/awstats/awstats.pl\n",
      "[Sun Jan 15 23:31:13 2006] [error] [client 149.132.103.59] File does not exist: /var/www/html/awstats/awstats.pl\n",
      "\n",
      "[Sun Jan 15 23:31:20 2006] [error] [client 149.132.103.59] File does not exist: /var/www/html/blog\n",
      "[Sun Jan 15 23:31:20 2006] [error] [client 149.132.103.59] File does not exist: /var/www/html/blog\n",
      "[Sun Jan 15 23:31:20 2006] [error] [client 149.132.103.59] File does not exist: /var/www/html/blog\n",
      "[Sun Jan 15 23:31:20 2006] [error] [client 149.132.103.59] File does not exist: /var/www/html/blog\n",
      "[Sun Jan 15 23:31:20 2006] [error] [client 149.132.103.59] File does not exist: /var/www/html/blog\n",
      "\n",
      "[Sun Jan 15 23:31:28 2006] [error] [client 149.132.103.59] File does not exist: /var/www/html/xmlrpc\n",
      "[Sun Jan 15 23:31:28 2006] [error] [client 149.132.103.59] File does not exist: /var/www/html/xmlrpc\n",
      "[Sun Jan 15 23:31:28 2006] [error] [client 149.132.103.59] File does not exist: /var/www/html/xmlrpc\n",
      "[Sun Jan 15 23:31:28 2006] [error] [client 149.132.103.59] File does not exist: /var/www/html/xmlrpc\n",
      "[Sun Jan 15 23:31:29 2006] [error] [client 149.132.103.59] File does not exist: /var/www/html/xmlsrv\n",
      "\n",
      "\n"
     ]
    }
   ],
   "source": [
    "from summarizer import LogSummarizer\n",
    "\n",
    "file_path = './data/small_log.txt'\n",
    "\n",
    "with open(file_path, 'r') as file:\n",
    "    file_contents = file.read()\n",
    "\n",
    "#file_contents = file_contents[12000:300000]\n",
    "summy = LogSummarizer(file_contents)\n",
    "summary = summy.summarize(10)\n",
    "print(summary)"
   ]
  },
  {
   "cell_type": "code",
   "execution_count": 2,
   "metadata": {},
   "outputs": [],
   "source": [
    "import Levenshtein\n",
    "\n",
    "def discard_time(string):\n",
    "\n",
    "    # Find the index of the character ']'\n",
    "    index_of_bracket = string.find(']')\n",
    "\n",
    "    # Check if ']' is found in the string\n",
    "    if index_of_bracket != -1:\n",
    "        # Extract the substring after ']'\n",
    "        return string[index_of_bracket + 1:]\n",
    "\n",
    "    else:\n",
    "        return string\n",
    "\n",
    "\n",
    "def answer2summary(answer, summary):\n",
    "    \n",
    "    \n",
    "    print(len(summary))\n",
    "    print(summary)\n",
    "    list_summary = summary.splitlines()\n",
    "    list_summary = [entry for entry in list_summary if entry]\n",
    "\n",
    "\n",
    "    distances = [Levenshtein.distance(answer, discard_time(entry)) for entry in list_summary]\n",
    "    \n",
    "    # Find the index of the string with the minimum distance\n",
    "    min_index = distances.index(min(distances))\n",
    "    print(min_index)\n",
    "    #print(\"min_index: \", min_index)\n",
    "    #print(list_summary)\n",
    "    #print(list_summary[min_index])\n",
    "\n",
    "    # Return the string with the highest similarity\n",
    "    return list_summary[min_index]\n",
    "\n",
    "\n",
    "def retrieve_log_snippet(line, context):\n",
    "    line_context = context.splitlines()\n",
    "    index = line_context.index(line)\n",
    "    range = 10\n",
    "\n",
    "    try:\n",
    "        return line_context[index-range:index]+line_context[index:index+range]\n",
    "    except:\n",
    "        print(\"answer line is at a border of the logfile\")\n",
    "        return line\n"
   ]
  },
  {
   "cell_type": "code",
   "execution_count": 3,
   "metadata": {},
   "outputs": [
    {
     "name": "stderr",
     "output_type": "stream",
     "text": [
      "Some weights of the model checkpoint at bert-large-uncased-whole-word-masking-finetuned-squad were not used when initializing BertModel: ['qa_outputs.weight', 'qa_outputs.bias']\n",
      "- This IS expected if you are initializing BertModel from the checkpoint of a model trained on another task or with another architecture (e.g. initializing a BertForSequenceClassification model from a BertForPreTraining model).\n",
      "- This IS NOT expected if you are initializing BertModel from the checkpoint of a model that you expect to be exactly identical (initializing a BertForSequenceClassification model from a BertForSequenceClassification model).\n"
     ]
    },
    {
     "name": "stdout",
     "output_type": "stream",
     "text": [
      "lines with less than 513 chars:  60\n",
      "best answer: \n",
      "script not found or unable to stat\n"
     ]
    }
   ],
   "source": [
    "from question_answering import LogAIAgent\n",
    "\n",
    "logAIAgent = LogAIAgent()\n",
    "\n",
    "answers = logAIAgent.find_best_answer(summary, \"What is the error?\")\n",
    "best_answer = answers[-2][0]\n",
    "print(\"best answer: \")\n",
    "print(best_answer)\n",
    "\n"
   ]
  },
  {
   "cell_type": "code",
   "execution_count": 4,
   "metadata": {},
   "outputs": [
    {
     "name": "stdout",
     "output_type": "stream",
     "text": [
      "4682\n",
      "[Sun Jan 15 04:11:23 2006] [notice] Digest: generating secret for digest authentication ...\n",
      "[Sun Jan 15 04:11:23 2006] [notice] Digest: done\n",
      "[Sun Jan 15 04:11:23 2006] [notice] LDAP: Built with OpenLDAP LDAP SDK\n",
      "[Sun Jan 15 04:11:23 2006] [notice] LDAP: SSL support unavailable\n",
      "[Sun Jan 15 04:11:23 2006] [error] env.createBean2(): Factory error creating channel.jni:jni ( channel.jni, jni)\n",
      "[Sun Jan 15 04:11:23 2006] [error] config.update(): Can't create channel.jni:jni\n",
      "\n",
      "[Sun Jan 15 04:11:25 2006] [notice] workerEnv.init() ok /etc/httpd/conf/workers2.properties\n",
      "[Sun Jan 15 04:11:25 2006] [error] mod_jk child init 1 -2\n",
      "[Sun Jan 15 04:11:25 2006] [error] jk2_init() Can't find child 27317 in scoreboard\n",
      "[Sun Jan 15 04:11:25 2006] [notice] workerEnv.init() ok /etc/httpd/conf/workers2.properties\n",
      "[Sun Jan 15 04:11:25 2006] [error] mod_jk child init 1 -2\n",
      "[Sun Jan 15 04:11:25 2006] [error] jk2_init() Can't find child 27318 in scoreboard\n",
      "\n",
      "[Sun Jan 15 10:51:37 2006] [error] [client 61.152.90.96] script not found or unable to stat: /var/www/cgi-bin/awstats.pl\n",
      "[Sun Jan 15 10:51:37 2006] [error] [client 61.152.90.96] script not found or unable to stat: /var/www/cgi-bin/awstats\n",
      "[Sun Jan 15 10:51:38 2006] [error] [client 61.152.90.96] script not found or unable to stat: /var/www/cgi-bin/awstats\n",
      "[Sun Jan 15 10:51:38 2006] [error] [client 61.152.90.96] script not found or unable to stat: /var/www/cgi-bin/awstats.pl\n",
      "\n",
      "[Sun Jan 15 10:51:40 2006] [error] [client 61.152.90.96] script not found or unable to stat: /var/www/cgi-bin/awstats\n",
      "script not found or unable to stat\n",
      "[Sun Jan 15 10:51:40 2006] [notice] jk2_init() Found child 32235 in scoreboard slot 9\n",
      "[Sun Jan 15 10:51:40 2006] [notice] workerEnv.init() ok /etc/httpd/conf/workers2.properties\n",
      "[Sun Jan 15 10:51:40 2006] [error] mod_jk child workerEnv in error state 6\n",
      "[Sun Jan 15 10:51:40 2006] [error] [client 61.152.90.96] File does not exist: /var/www/html/blog\n",
      "\n",
      "script not found or unable to stat\n",
      "[Sun Jan 15 10:51:43 2006] [error] [client 61.152.90.96] File does not exist: /var/www/html/drupal\n",
      "[Sun Jan 15 10:51:43 2006] [error] [client 61.152.90.96] File does not exist: /var/www/html/blog\n",
      "[Sun Jan 15 10:51:43 2006] [error] [client 61.152.90.96] File does not exist: /var/www/html/blog\n",
      "[Sun Jan 15 10:51:43 2006] [error] [client 61.152.90.96] File does not exist: /var/www/html/blog\n",
      "\n",
      "[Sun Jan 15 10:51:50 2006] [error] [client 61.152.90.96] File does not exist: /var/www/html/phpgroupware\n",
      "[Sun Jan 15 10:51:50 2006] [error] [client 61.152.90.96] File does not exist: /var/www/html/drupal\n",
      "[Sun Jan 15 10:51:50 2006] [error] [client 61.152.90.96] File does not exist: /var/www/html/wordpress\n",
      "[Sun Jan 15 10:51:51 2006] [error] [client 61.152.90.96] File does not exist: /var/www/html/phpgroupware\n",
      "script not found or unable to stat\n",
      "\n",
      "[Sun Jan 15 14:34:02 2006] [error] [client 68.203.209.170] Directory index forbidden by rule: /var/www/html/\n",
      "[Sun Jan 15 15:20:57 2006] [error] [client 80.176.231.7] Directory index forbidden by rule: /var/www/html/\n",
      "[Sun Jan 15 16:10:18 2006] [error] [client 24.228.39.92] Directory index forbidden by rule: /var/www/html/\n",
      "[Sun Jan 15 16:28:34 2006] [error] [client 66.53.90.211] Directory index forbidden by rule: /var/www/html/\n",
      "\n",
      "[Sun Jan 15 23:31:13 2006] [error] [client 149.132.103.59] File does not exist: /var/www/html/awstats/awstats.pl\n",
      "[Sun Jan 15 23:31:13 2006] [error] [client 149.132.103.59] File does not exist: /var/www/html/awstats/awstats.pl\n",
      "[Sun Jan 15 23:31:13 2006] [error] [client 149.132.103.59] File does not exist: /var/www/html/awstats/awstats.pl\n",
      "[Sun Jan 15 23:31:13 2006] [error] [client 149.132.103.59] File does not exist: /var/www/html/awstats/awstats.pl\n",
      "\n",
      "[Sun Jan 15 23:31:20 2006] [error] [client 149.132.103.59] File does not exist: /var/www/html/blog\n",
      "[Sun Jan 15 23:31:20 2006] [error] [client 149.132.103.59] File does not exist: /var/www/html/blog\n",
      "[Sun Jan 15 23:31:20 2006] [error] [client 149.132.103.59] File does not exist: /var/www/html/blog\n",
      "[Sun Jan 15 23:31:20 2006] [error] [client 149.132.103.59] File does not exist: /var/www/html/blog\n",
      "[Sun Jan 15 23:31:20 2006] [error] [client 149.132.103.59] File does not exist: /var/www/html/blog\n",
      "\n",
      "[Sun Jan 15 23:31:28 2006] [error] [client 149.132.103.59] File does not exist: /var/www/html/xmlrpc\n",
      "[Sun Jan 15 23:31:28 2006] [error] [client 149.132.103.59] File does not exist: /var/www/html/xmlrpc\n",
      "[Sun Jan 15 23:31:28 2006] [error] [client 149.132.103.59] File does not exist: /var/www/html/xmlrpc\n",
      "[Sun Jan 15 23:31:28 2006] [error] [client 149.132.103.59] File does not exist: /var/www/html/xmlrpc\n",
      "[Sun Jan 15 23:31:29 2006] [error] [client 149.132.103.59] File does not exist: /var/www/html/xmlsrv\n",
      "\n",
      "\n",
      "17\n",
      "answer2summary\n",
      "script not found or unable to stat\n"
     ]
    }
   ],
   "source": [
    "best_summary = answer2summary(best_answer, summary)\n",
    "\n",
    "print(\"answer2summary\")\n",
    "print(best_summary)"
   ]
  },
  {
   "cell_type": "code",
   "execution_count": 6,
   "metadata": {},
   "outputs": [
    {
     "name": "stdout",
     "output_type": "stream",
     "text": [
      "script not found or unable to stat\n",
      "['[Sun Jan 15 10:51:37 2006] [notice] workerEnv.init() ok /etc/httpd/conf/workers2.properties', '[Sun Jan 15 10:51:37 2006] [error] mod_jk child init 1 -2', '[Sun Jan 15 10:51:37 2006] [error] [client 61.152.90.96] script not found or unable to stat: /var/www/cgi-bin/awstats.pl', '[Sun Jan 15 10:51:37 2006] [error] [client 61.152.90.96] script not found or unable to stat: /var/www/cgi-bin/awstats', '[Sun Jan 15 10:51:37 2006] [error] [client 61.152.90.96] script not found or unable to stat: /var/www/cgi-bin/awstats', '[Sun Jan 15 10:51:37 2006] [error] [client 61.152.90.96] script not found or unable to stat: /var/www/cgi-bin/awstats.pl', '[Sun Jan 15 10:51:37 2006] [error] [client 61.152.90.96] script not found or unable to stat: /var/www/cgi-bin/awstats', '[Sun Jan 15 10:51:38 2006] [error] [client 61.152.90.96] script not found or unable to stat: /var/www/cgi-bin/awstats', '[Sun Jan 15 10:51:38 2006] [error] [client 61.152.90.96] script not found or unable to stat: /var/www/cgi-bin/awstats.pl', '[Sun Jan 15 10:51:38 2006] [error] [client 61.152.90.96] script not found or unable to stat: /var/www/cgi-bin/awstats', 'script not found or unable to stat', '[Sun Jan 15 10:51:38 2006] [notice] jk2_init() Found child 32233 in scoreboard slot 6', '[Sun Jan 15 10:51:38 2006] [notice] workerEnv.init() ok /etc/httpd/conf/workers2.properties', '[Sun Jan 15 10:51:38 2006] [error] mod_jk child workerEnv in error state 6', '[Sun Jan 15 10:51:38 2006] [error] [client 61.152.90.96] File does not exist: /var/www/html/awstats/awstats.pl', '[Sun Jan 15 10:51:38 2006] [error] [client 61.152.90.96] script not found or unable to stat: /var/www/cgi-bin/awstats', '[Sun Jan 15 10:51:38 2006] [error] [client 61.152.90.96] script not found or unable to stat: /var/www/cgi-bin/awstats', 'script not found or unable to stat', '[Sun Jan 15 10:51:38 2006] [error] [client 61.152.90.96] script not found or unable to stat: /var/www/cgi-bin/awstats', '[Sun Jan 15 10:51:38 2006] [error] [client 61.152.90.96] script not found or unable to stat: /var/www/cgi-bin/awstats.pl']\n"
     ]
    }
   ],
   "source": [
    "print(best_summary)\n",
    "log_snippet = retrieve_log_snippet(best_summary, file_contents)\n",
    "print(log_snippet)"
   ]
  }
 ],
 "metadata": {
  "kernelspec": {
   "display_name": ".rhode",
   "language": "python",
   "name": "python3"
  },
  "language_info": {
   "codemirror_mode": {
    "name": "ipython",
    "version": 3
   },
   "file_extension": ".py",
   "mimetype": "text/x-python",
   "name": "python",
   "nbconvert_exporter": "python",
   "pygments_lexer": "ipython3",
   "version": "3.7.12"
  }
 },
 "nbformat": 4,
 "nbformat_minor": 2
}
